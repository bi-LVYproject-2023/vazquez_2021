{
 "cells": [
  {
   "cell_type": "code",
   "execution_count": 12,
   "id": "5da2ac1d",
   "metadata": {},
   "outputs": [],
   "source": [
    "import pandas as pd\n",
    "from Bio import SeqIO\n",
    "from Bio.SeqUtils import GC\n",
    "import os"
   ]
  },
  {
   "cell_type": "code",
   "execution_count": 27,
   "id": "de1d15e3",
   "metadata": {},
   "outputs": [],
   "source": [
    "species = []\n",
    "chr_counts = []\n",
    "genome_lengths = []\n",
    "gc_contents = []\n",
    "n_contents = []\n",
    "n_per_contents = []"
   ]
  },
  {
   "cell_type": "code",
   "execution_count": 28,
   "id": "a1424fee",
   "metadata": {},
   "outputs": [],
   "source": [
    "for file in os.listdir('.'):\n",
    "    if file.endswith('.fasta'):\n",
    "        fasta = SeqIO.parse(file, 'fasta')\n",
    "        \n",
    "        chr_count = 0\n",
    "        genome_length = 0\n",
    "        gc_content = 0\n",
    "        n_content = 0\n",
    "        \n",
    "        for seq in fasta:\n",
    "            chr_count += 1\n",
    "            genome_length += len(seq.seq)\n",
    "            gc_content += seq.seq.lower().count('g') + seq.seq.lower().count('c')\n",
    "            n_content += seq.seq.lower().count('n')\n",
    "    \n",
    "        gc_content = gc_content / genome_length * 100\n",
    "        n_per_content = n_content / genome_length * 100\n",
    "        \n",
    "        species.append(file.split('.')[0])\n",
    "        chr_counts.append(chr_count)\n",
    "        genome_lengths.append(genome_length)\n",
    "        gc_contents.append(gc_content)\n",
    "        n_contents.append(n_content)\n",
    "        n_per_contents.append(n_per_content)"
   ]
  },
  {
   "cell_type": "code",
   "execution_count": 29,
   "id": "bbc233ab",
   "metadata": {},
   "outputs": [],
   "source": [
    "df = pd.DataFrame({\n",
    "    'Genome': species,\n",
    "    'Chromosome_count': chr_counts,\n",
    "    'Genome_length': genome_lengths,\n",
    "    'GC_content': gc_contents,\n",
    "    'N_content': n_contents,\n",
    "    'N_content_percent': n_per_contents\n",
    "})"
   ]
  },
  {
   "cell_type": "code",
   "execution_count": 30,
   "id": "061ddc26",
   "metadata": {},
   "outputs": [
    {
     "data": {
      "text/html": [
       "<div>\n",
       "<style scoped>\n",
       "    .dataframe tbody tr th:only-of-type {\n",
       "        vertical-align: middle;\n",
       "    }\n",
       "\n",
       "    .dataframe tbody tr th {\n",
       "        vertical-align: top;\n",
       "    }\n",
       "\n",
       "    .dataframe thead th {\n",
       "        text-align: right;\n",
       "    }\n",
       "</style>\n",
       "<table border=\"1\" class=\"dataframe\">\n",
       "  <thead>\n",
       "    <tr style=\"text-align: right;\">\n",
       "      <th></th>\n",
       "      <th>Genome</th>\n",
       "      <th>Chromosome_count</th>\n",
       "      <th>Genome_length</th>\n",
       "      <th>GC_content</th>\n",
       "      <th>N_content</th>\n",
       "      <th>N_content_percent</th>\n",
       "    </tr>\n",
       "  </thead>\n",
       "  <tbody>\n",
       "    <tr>\n",
       "      <th>0</th>\n",
       "      <td>mamPriV</td>\n",
       "      <td>2217</td>\n",
       "      <td>3268239107</td>\n",
       "      <td>31.807922</td>\n",
       "      <td>710426181</td>\n",
       "      <td>21.737277</td>\n",
       "    </tr>\n",
       "    <tr>\n",
       "      <th>1</th>\n",
       "      <td>loxCycF</td>\n",
       "      <td>2260</td>\n",
       "      <td>3270066510</td>\n",
       "      <td>37.370529</td>\n",
       "      <td>260415930</td>\n",
       "      <td>7.963628</td>\n",
       "    </tr>\n",
       "    <tr>\n",
       "      <th>2</th>\n",
       "      <td>mamColU</td>\n",
       "      <td>2136</td>\n",
       "      <td>3266252356</td>\n",
       "      <td>21.840385</td>\n",
       "      <td>1584501481</td>\n",
       "      <td>48.511300</td>\n",
       "    </tr>\n",
       "    <tr>\n",
       "      <th>3</th>\n",
       "      <td>mamAmeI</td>\n",
       "      <td>2153</td>\n",
       "      <td>3266707888</td>\n",
       "      <td>31.401881</td>\n",
       "      <td>755946427</td>\n",
       "      <td>23.140925</td>\n",
       "    </tr>\n",
       "    <tr>\n",
       "      <th>4</th>\n",
       "      <td>palAntN</td>\n",
       "      <td>2274</td>\n",
       "      <td>3269440243</td>\n",
       "      <td>32.847895</td>\n",
       "      <td>596278337</td>\n",
       "      <td>18.237933</td>\n",
       "    </tr>\n",
       "  </tbody>\n",
       "</table>\n",
       "</div>"
      ],
      "text/plain": [
       "    Genome  Chromosome_count  Genome_length  GC_content   N_content  \\\n",
       "0  mamPriV              2217     3268239107   31.807922   710426181   \n",
       "1  loxCycF              2260     3270066510   37.370529   260415930   \n",
       "2  mamColU              2136     3266252356   21.840385  1584501481   \n",
       "3  mamAmeI              2153     3266707888   31.401881   755946427   \n",
       "4  palAntN              2274     3269440243   32.847895   596278337   \n",
       "\n",
       "   N_content_percent  \n",
       "0          21.737277  \n",
       "1           7.963628  \n",
       "2          48.511300  \n",
       "3          23.140925  \n",
       "4          18.237933  "
      ]
     },
     "execution_count": 30,
     "metadata": {},
     "output_type": "execute_result"
    }
   ],
   "source": [
    "df"
   ]
  },
  {
   "cell_type": "code",
   "execution_count": 19,
   "id": "8d666e58",
   "metadata": {},
   "outputs": [],
   "source": []
  }
 ],
 "metadata": {
  "kernelspec": {
   "display_name": "Python 3 (ipykernel)",
   "language": "python",
   "name": "python3"
  },
  "language_info": {
   "codemirror_mode": {
    "name": "ipython",
    "version": 3
   },
   "file_extension": ".py",
   "mimetype": "text/x-python",
   "name": "python",
   "nbconvert_exporter": "python",
   "pygments_lexer": "ipython3",
   "version": "3.10.8"
  }
 },
 "nbformat": 4,
 "nbformat_minor": 5
}
